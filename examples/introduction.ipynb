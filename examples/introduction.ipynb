{
 "cells": [
  {
   "cell_type": "markdown",
   "metadata": {},
   "source": [
    "# Introduction"
   ]
  },
  {
   "cell_type": "code",
   "execution_count": 24,
   "metadata": {},
   "outputs": [],
   "source": [
    "import net_vis"
   ]
  },
  {
   "cell_type": "code",
   "execution_count": 25,
   "metadata": {},
   "outputs": [],
   "source": [
    "data = \"\"\"\n",
    "{\n",
    "  \"nodes\": [\n",
    "    {\n",
    "      \"page_id\": 1,\n",
    "      \"id\": \"Network\"\n",
    "    },\n",
    "    {\n",
    "      \"page_id\": 2,\n",
    "      \"id\": \"Graph\"\n",
    "    }\n",
    "  ],\n",
    "  \"links\": [\n",
    "    {\n",
    "      \"source\": \"Network\",\n",
    "      \"target\": \"Graph\"\n",
    "    }\n",
    "  ]\n",
    "}\n",
    "\"\"\""
   ]
  },
  {
   "cell_type": "code",
   "execution_count": 26,
   "metadata": {},
   "outputs": [
    {
     "data": {
      "text/plain": [
       "{'nodes': [{'page_id': 1, 'id': 'Network'}, {'page_id': 2, 'id': 'Graph'}],\n",
       " 'links': [{'source': 'Network', 'target': 'Graph'}]}"
      ]
     },
     "execution_count": 26,
     "metadata": {},
     "output_type": "execute_result"
    }
   ],
   "source": [
    "import json\n",
    "json.loads(data)"
   ]
  },
  {
   "cell_type": "code",
   "execution_count": 27,
   "metadata": {},
   "outputs": [
    {
     "data": {
      "application/vnd.jupyter.widget-view+json": {
       "model_id": "0b58f84345d9472682d9e51a0012aaf2",
       "version_major": 2,
       "version_minor": 0
      },
      "text/plain": [
       "NetVis(value='\\n{\\n  \"nodes\": [\\n    {\\n      \"page_id\": 1,\\n      \"id\": \"Network\"\\n    },\\n    {\\n      \"page…"
      ]
     },
     "execution_count": 27,
     "metadata": {},
     "output_type": "execute_result"
    }
   ],
   "source": [
    "w = net_vis.NetVis(value=data)\n",
    "w"
   ]
  },
  {
   "cell_type": "code",
   "execution_count": 10,
   "metadata": {},
   "outputs": [],
   "source": [
    "assert w.value == data"
   ]
  },
  {
   "cell_type": "markdown",
   "metadata": {},
   "source": [
    "# Read sample.json"
   ]
  },
  {
   "cell_type": "code",
   "execution_count": 28,
   "metadata": {},
   "outputs": [],
   "source": [
    "with open(\"sample_test_2.json\", \"rb\") as f:\n",
    "    sample_data = f.read()"
   ]
  },
  {
   "cell_type": "code",
   "execution_count": 29,
   "metadata": {},
   "outputs": [
    {
     "data": {
      "text/plain": [
       "{'directed': True,\n",
       " 'nodes': [{'name': 'Node_0',\n",
       "   'size': 13,\n",
       "   'category': 'Type B',\n",
       "   'description': 'ABCD',\n",
       "   'id': 'id_0'},\n",
       "  {'name': 'Node_1',\n",
       "   'size': 13,\n",
       "   'category': 'Type C',\n",
       "   'description': 'ABCD',\n",
       "   'id': 'id_1'},\n",
       "  {'name': 'Node_2',\n",
       "   'size': 35,\n",
       "   'category': 'Type A',\n",
       "   'description': 'ABCD',\n",
       "   'id': 'id_2'},\n",
       "  {'name': 'Node_3',\n",
       "   'size': 14,\n",
       "   'category': 'Type C',\n",
       "   'description': 'ABCD',\n",
       "   'id': 'id_3'},\n",
       "  {'name': 'Node_4',\n",
       "   'size': 64,\n",
       "   'category': 'Type C',\n",
       "   'description': 'ABCD',\n",
       "   'id': 'id_4'},\n",
       "  {'name': 'Node_5',\n",
       "   'size': 40,\n",
       "   'category': 'Type A',\n",
       "   'description': 'ABCD',\n",
       "   'id': 'id_5'},\n",
       "  {'name': 'Node_6',\n",
       "   'size': 18,\n",
       "   'category': 'Type B',\n",
       "   'description': 'ABCD',\n",
       "   'id': 'id_6'},\n",
       "  {'name': 'Node_7',\n",
       "   'size': 57,\n",
       "   'category': 'Type B',\n",
       "   'description': 'ABCD',\n",
       "   'id': 'id_7'},\n",
       "  {'name': 'Node_8',\n",
       "   'size': 74,\n",
       "   'category': 'Type B',\n",
       "   'description': 'ABCD',\n",
       "   'id': 'id_8'},\n",
       "  {'name': 'Node_9',\n",
       "   'size': 56,\n",
       "   'category': 'Type A',\n",
       "   'description': 'ABCD',\n",
       "   'id': 'id_9'}],\n",
       " 'links': [{'name': 'Edge_1',\n",
       "   'weight': 5.52,\n",
       "   'cost': 15,\n",
       "   'source': 'id_1',\n",
       "   'target': 'id_4'},\n",
       "  {'name': 'Edge_1',\n",
       "   'weight': 6.66,\n",
       "   'cost': 13,\n",
       "   'source': 'id_1',\n",
       "   'target': 'id_6'},\n",
       "  {'name': 'Edge_2',\n",
       "   'weight': 6.22,\n",
       "   'cost': 20,\n",
       "   'source': 'id_2',\n",
       "   'target': 'id_5'},\n",
       "  {'name': 'Edge_3',\n",
       "   'weight': 9.15,\n",
       "   'cost': 1,\n",
       "   'source': 'id_3',\n",
       "   'target': 'id_7'},\n",
       "  {'name': 'Edge_5',\n",
       "   'weight': 6.53,\n",
       "   'cost': 9,\n",
       "   'source': 'id_5',\n",
       "   'target': 'id_6'},\n",
       "  {'name': 'Edge_5',\n",
       "   'weight': 2.22,\n",
       "   'cost': 10,\n",
       "   'source': 'id_5',\n",
       "   'target': 'id_8'},\n",
       "  {'name': 'Edge_6',\n",
       "   'weight': 9.23,\n",
       "   'cost': 17,\n",
       "   'source': 'id_6',\n",
       "   'target': 'id_9'},\n",
       "  {'name': 'Edge_7',\n",
       "   'weight': 2.57,\n",
       "   'cost': 13,\n",
       "   'source': 'id_7',\n",
       "   'target': 'id_8'},\n",
       "  {'name': 'Edge_7',\n",
       "   'weight': 8.1,\n",
       "   'cost': 11,\n",
       "   'source': 'id_7',\n",
       "   'target': 'id_9'}]}"
      ]
     },
     "execution_count": 29,
     "metadata": {},
     "output_type": "execute_result"
    }
   ],
   "source": [
    "import json\n",
    "json.loads(sample_data)"
   ]
  },
  {
   "cell_type": "code",
   "execution_count": 30,
   "metadata": {
    "scrolled": true
   },
   "outputs": [
    {
     "data": {
      "application/vnd.jupyter.widget-view+json": {
       "model_id": "de26d7e447e248b29dc854ba0bb5eaef",
       "version_major": 2,
       "version_minor": 0
      },
      "text/plain": [
       "NetVis(value='{\\n  \"directed\": true,\\n  \"nodes\": [\\n    {\\n      \"name\": \"Node_0\",\\n      \"size\": 13,\\n      \"…"
      ]
     },
     "execution_count": 30,
     "metadata": {},
     "output_type": "execute_result"
    }
   ],
   "source": [
    "w2 = net_vis.NetVis(value=sample_data)\n",
    "w2"
   ]
  },
  {
   "cell_type": "code",
   "execution_count": null,
   "metadata": {},
   "outputs": [],
   "source": []
  }
 ],
 "metadata": {
  "kernelspec": {
   "display_name": "Python 3 (ipykernel)",
   "language": "python",
   "name": "python3"
  },
  "language_info": {
   "codemirror_mode": {
    "name": "ipython",
    "version": 3
   },
   "file_extension": ".py",
   "mimetype": "text/x-python",
   "name": "python",
   "nbconvert_exporter": "python",
   "pygments_lexer": "ipython3",
   "version": "3.12.7"
  }
 },
 "nbformat": 4,
 "nbformat_minor": 4
}
